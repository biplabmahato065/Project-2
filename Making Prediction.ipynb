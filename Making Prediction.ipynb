{
 "cells": [
  {
   "cell_type": "code",
   "execution_count": 2,
   "id": "a818a9e3-bb68-47d3-a0c4-ceb3946a3b6c",
   "metadata": {},
   "outputs": [],
   "source": [
    "import numpy as np\n",
    "import pandas as pd\n",
    "#visualisation\n",
    "import matplotlib.pyplot as plt\n",
    "import seaborn as sns\n",
    "from bioinfokit.visuz import cluster\n",
    "#models\n",
    "from sklearn.decomposition import PCA\n",
    "from sklearn.preprocessing import StandardScaler\n",
    "from sklearn.cluster import KMeans\n",
    "from sklearn.cluster import AgglomerativeClustering\n",
    "from sklearn.metrics import adjusted_rand_score\n",
    "from sklearn.metrics import silhouette_score\n",
    "from sklearn.utils import resample"
   ]
  },
  {
   "cell_type": "code",
   "execution_count": 33,
   "id": "15505a20-c2cf-462a-8ba0-f57282fc6c8e",
   "metadata": {},
   "outputs": [],
   "source": [
    "df=pd.read_csv('new2.csv')"
   ]
  },
  {
   "cell_type": "code",
   "execution_count": 34,
   "id": "013c4d1c-0422-45c2-8523-c4bea26ccc00",
   "metadata": {},
   "outputs": [
    {
     "data": {
      "text/html": [
       "<div>\n",
       "<style scoped>\n",
       "    .dataframe tbody tr th:only-of-type {\n",
       "        vertical-align: middle;\n",
       "    }\n",
       "\n",
       "    .dataframe tbody tr th {\n",
       "        vertical-align: top;\n",
       "    }\n",
       "\n",
       "    .dataframe thead th {\n",
       "        text-align: right;\n",
       "    }\n",
       "</style>\n",
       "<table border=\"1\" class=\"dataframe\">\n",
       "  <thead>\n",
       "    <tr style=\"text-align: right;\">\n",
       "      <th></th>\n",
       "      <th>name</th>\n",
       "      <th>state</th>\n",
       "      <th>city</th>\n",
       "      <th>address</th>\n",
       "      <th>lattitude</th>\n",
       "      <th>longitude</th>\n",
       "      <th>type</th>\n",
       "    </tr>\n",
       "  </thead>\n",
       "  <tbody>\n",
       "    <tr>\n",
       "      <th>0</th>\n",
       "      <td>Neelkanth Star DC Charging Station</td>\n",
       "      <td>Haryana</td>\n",
       "      <td>Gurugram</td>\n",
       "      <td>Neelkanth Star Karnal, NH 44, Gharunda, Kutail...</td>\n",
       "      <td>29.60</td>\n",
       "      <td>76.980300</td>\n",
       "      <td>12.0</td>\n",
       "    </tr>\n",
       "    <tr>\n",
       "      <th>1</th>\n",
       "      <td>Galleria DC Charging Station</td>\n",
       "      <td>Haryana</td>\n",
       "      <td>Gurugram</td>\n",
       "      <td>DLF Phase IV, Sector 28, Gurugram, Haryana 122022</td>\n",
       "      <td>28.46</td>\n",
       "      <td>77.081800</td>\n",
       "      <td>12.0</td>\n",
       "    </tr>\n",
       "    <tr>\n",
       "      <th>2</th>\n",
       "      <td>Highway Xpress (Jaipur-Delhi) DC charging station</td>\n",
       "      <td>Rajasthan</td>\n",
       "      <td>Behror</td>\n",
       "      <td>Jaipur to Delhi Road, Behror Midway, Behror, R...</td>\n",
       "      <td>27.87</td>\n",
       "      <td>76.276000</td>\n",
       "      <td>12.0</td>\n",
       "    </tr>\n",
       "    <tr>\n",
       "      <th>3</th>\n",
       "      <td>Food Carnival DC Charging Station</td>\n",
       "      <td>Uttar Pradesh</td>\n",
       "      <td>Khatauli</td>\n",
       "      <td>Fun and Food Carnival, NH 58, Khatauli Bypass,...</td>\n",
       "      <td>29.31</td>\n",
       "      <td>77.721800</td>\n",
       "      <td>12.0</td>\n",
       "    </tr>\n",
       "    <tr>\n",
       "      <th>4</th>\n",
       "      <td>Food Carnival AC Charging Station</td>\n",
       "      <td>Uttar Pradesh</td>\n",
       "      <td>Khatauli</td>\n",
       "      <td>NH 58, Khatauli Bypass, Bhainsi, Uttar Pradesh...</td>\n",
       "      <td>29.31</td>\n",
       "      <td>77.721800</td>\n",
       "      <td>12.0</td>\n",
       "    </tr>\n",
       "    <tr>\n",
       "      <th>...</th>\n",
       "      <td>...</td>\n",
       "      <td>...</td>\n",
       "      <td>...</td>\n",
       "      <td>...</td>\n",
       "      <td>...</td>\n",
       "      <td>...</td>\n",
       "      <td>...</td>\n",
       "    </tr>\n",
       "    <tr>\n",
       "      <th>1477</th>\n",
       "      <td>Tata Power</td>\n",
       "      <td>Kerala</td>\n",
       "      <td>Munnar</td>\n",
       "      <td>Gokulam Park Munnar, Power House Road, South C...</td>\n",
       "      <td>10.02</td>\n",
       "      <td>77.045859</td>\n",
       "      <td>7.0</td>\n",
       "    </tr>\n",
       "    <tr>\n",
       "      <th>1478</th>\n",
       "      <td>Tata Power</td>\n",
       "      <td>Haryana</td>\n",
       "      <td>Gurgaon</td>\n",
       "      <td>Vatika Town Square II, Sector 82, Sector 82, V...</td>\n",
       "      <td>28.39</td>\n",
       "      <td>76.959200</td>\n",
       "      <td>7.0</td>\n",
       "    </tr>\n",
       "    <tr>\n",
       "      <th>1479</th>\n",
       "      <td>Tata Power</td>\n",
       "      <td>Haryana</td>\n",
       "      <td>Gurgaon</td>\n",
       "      <td>Zedex TATA, Sec 48, GF-26, NIHO Scottish Mall,...</td>\n",
       "      <td>28.41</td>\n",
       "      <td>77.040546</td>\n",
       "      <td>7.0</td>\n",
       "    </tr>\n",
       "    <tr>\n",
       "      <th>1480</th>\n",
       "      <td>Tata Power</td>\n",
       "      <td>Jammu</td>\n",
       "      <td>Jammu</td>\n",
       "      <td>Le ROI, Jammu, Railway Station, Jammu, Jammu &amp;...</td>\n",
       "      <td>32.70</td>\n",
       "      <td>74.879203</td>\n",
       "      <td>7.0</td>\n",
       "    </tr>\n",
       "    <tr>\n",
       "      <th>1481</th>\n",
       "      <td>Tata Power</td>\n",
       "      <td>Karnataka</td>\n",
       "      <td>Mangalore</td>\n",
       "      <td>Auto Matrix, Bejai, Manjusha Building, Bejai, ...</td>\n",
       "      <td>12.88</td>\n",
       "      <td>74.843476</td>\n",
       "      <td>7.0</td>\n",
       "    </tr>\n",
       "  </tbody>\n",
       "</table>\n",
       "<p>1482 rows × 7 columns</p>\n",
       "</div>"
      ],
      "text/plain": [
       "                                                   name          state  \\\n",
       "0                    Neelkanth Star DC Charging Station        Haryana   \n",
       "1                          Galleria DC Charging Station        Haryana   \n",
       "2     Highway Xpress (Jaipur-Delhi) DC charging station      Rajasthan   \n",
       "3                     Food Carnival DC Charging Station  Uttar Pradesh   \n",
       "4                     Food Carnival AC Charging Station  Uttar Pradesh   \n",
       "...                                                 ...            ...   \n",
       "1477                                        Tata Power          Kerala   \n",
       "1478                                        Tata Power         Haryana   \n",
       "1479                                        Tata Power         Haryana   \n",
       "1480                                        Tata Power           Jammu   \n",
       "1481                                        Tata Power       Karnataka   \n",
       "\n",
       "           city                                            address  lattitude  \\\n",
       "0      Gurugram  Neelkanth Star Karnal, NH 44, Gharunda, Kutail...      29.60   \n",
       "1      Gurugram  DLF Phase IV, Sector 28, Gurugram, Haryana 122022      28.46   \n",
       "2        Behror  Jaipur to Delhi Road, Behror Midway, Behror, R...      27.87   \n",
       "3      Khatauli  Fun and Food Carnival, NH 58, Khatauli Bypass,...      29.31   \n",
       "4      Khatauli  NH 58, Khatauli Bypass, Bhainsi, Uttar Pradesh...      29.31   \n",
       "...         ...                                                ...        ...   \n",
       "1477     Munnar  Gokulam Park Munnar, Power House Road, South C...      10.02   \n",
       "1478    Gurgaon  Vatika Town Square II, Sector 82, Sector 82, V...      28.39   \n",
       "1479    Gurgaon  Zedex TATA, Sec 48, GF-26, NIHO Scottish Mall,...      28.41   \n",
       "1480      Jammu  Le ROI, Jammu, Railway Station, Jammu, Jammu &...      32.70   \n",
       "1481  Mangalore  Auto Matrix, Bejai, Manjusha Building, Bejai, ...      12.88   \n",
       "\n",
       "      longitude  type  \n",
       "0     76.980300  12.0  \n",
       "1     77.081800  12.0  \n",
       "2     76.276000  12.0  \n",
       "3     77.721800  12.0  \n",
       "4     77.721800  12.0  \n",
       "...         ...   ...  \n",
       "1477  77.045859   7.0  \n",
       "1478  76.959200   7.0  \n",
       "1479  77.040546   7.0  \n",
       "1480  74.879203   7.0  \n",
       "1481  74.843476   7.0  \n",
       "\n",
       "[1482 rows x 7 columns]"
      ]
     },
     "execution_count": 34,
     "metadata": {},
     "output_type": "execute_result"
    }
   ],
   "source": [
    "df"
   ]
  },
  {
   "cell_type": "markdown",
   "id": "11e88f21-9ac2-4610-a207-15fa738d6b13",
   "metadata": {},
   "source": [
    "### `Labelling Using Clusters`"
   ]
  },
  {
   "cell_type": "code",
   "execution_count": 35,
   "id": "8c0ef5e5-4524-4314-bcd0-46534d03c559",
   "metadata": {},
   "outputs": [],
   "source": [
    "x=df[['lattitude',\t'longitude']]"
   ]
  },
  {
   "cell_type": "code",
   "execution_count": 36,
   "id": "fd486c70-7823-4d5b-a66a-160de4da6034",
   "metadata": {},
   "outputs": [
    {
     "data": {
      "text/plain": [
       "<Axes: xlabel='lattitude', ylabel='longitude'>"
      ]
     },
     "execution_count": 36,
     "metadata": {},
     "output_type": "execute_result"
    },
    {
     "data": {
      "image/png": "[encoded data removed]",
      "text/plain": [
       "<Figure size 640x480 with 1 Axes>"
      ]
     },
     "metadata": {},
     "output_type": "display_data"
    }
   ],
   "source": [
    "sns.scatterplot(data=x, x='lattitude', y='longitude')"
   ]
  },
  {
   "cell_type": "code",
   "execution_count": 37,
   "id": "61bc58f2-de82-4b7b-aedc-27f263c4b1a8",
   "metadata": {},
   "outputs": [],
   "source": [
    "pca=PCA()\n",
    "x_pca=pca.fit_transform(x)"
   ]
  },
  {
   "cell_type": "code",
   "execution_count": 38,
   "id": "5c1cc1e7-cc45-4d5d-a592-c0a54a3fc994",
   "metadata": {},
   "outputs": [
    {
     "name": "stderr",
     "output_type": "stream",
     "text": [
      "/opt/anaconda3/lib/python3.11/site-packages/sklearn/cluster/_kmeans.py:870: FutureWarning: The default value of `n_init` will change from 10 to 'auto' in 1.4. Set the value of `n_init` explicitly to suppress the warning\n",
      "  warnings.warn(\n"
     ]
    },
    {
     "data": {
      "text/html": [
       "<style>#sk-container-id-3 {color: black;background-color: white;}#sk-container-id-3 pre{padding: 0;}#sk-container-id-3 div.sk-toggleable {background-color: white;}#sk-container-id-3 label.sk-toggleable__label {cursor: pointer;display: block;width: 100%;margin-bottom: 0;padding: 0.3em;box-sizing: border-box;text-align: center;}#sk-container-id-3 label.sk-toggleable__label-arrow:before {content: \"▸\";float: left;margin-right: 0.25em;color: #696969;}#sk-container-id-3 label.sk-toggleable__label-arrow:hover:before {color: black;}#sk-container-id-3 div.sk-estimator:hover label.sk-toggleable__label-arrow:before {color: black;}#sk-container-id-3 div.sk-toggleable__content {max-height: 0;max-width: 0;overflow: hidden;text-align: left;background-color: #f0f8ff;}#sk-container-id-3 div.sk-toggleable__content pre {margin: 0.2em;color: black;border-radius: 0.25em;background-color: #f0f8ff;}#sk-container-id-3 input.sk-toggleable__control:checked~div.sk-toggleable__content {max-height: 200px;max-width: 100%;overflow: auto;}#sk-container-id-3 input.sk-toggleable__control:checked~label.sk-toggleable__label-arrow:before {content: \"▾\";}#sk-container-id-3 div.sk-estimator input.sk-toggleable__control:checked~label.sk-toggleable__label {background-color: #d4ebff;}#sk-container-id-3 div.sk-label input.sk-toggleable__control:checked~label.sk-toggleable__label {background-color: #d4ebff;}#sk-container-id-3 input.sk-hidden--visually {border: 0;clip: rect(1px 1px 1px 1px);clip: rect(1px, 1px, 1px, 1px);height: 1px;margin: -1px;overflow: hidden;padding: 0;position: absolute;width: 1px;}#sk-container-id-3 div.sk-estimator {font-family: monospace;background-color: #f0f8ff;border: 1px dotted black;border-radius: 0.25em;box-sizing: border-box;margin-bottom: 0.5em;}#sk-container-id-3 div.sk-estimator:hover {background-color: #d4ebff;}#sk-container-id-3 div.sk-parallel-item::after {content: \"\";width: 100%;border-bottom: 1px solid gray;flex-grow: 1;}#sk-container-id-3 div.sk-label:hover label.sk-toggleable__label {background-color: #d4ebff;}#sk-container-id-3 div.sk-serial::before {content: \"\";position: absolute;border-left: 1px solid gray;box-sizing: border-box;top: 0;bottom: 0;left: 50%;z-index: 0;}#sk-container-id-3 div.sk-serial {display: flex;flex-direction: column;align-items: center;background-color: white;padding-right: 0.2em;padding-left: 0.2em;position: relative;}#sk-container-id-3 div.sk-item {position: relative;z-index: 1;}#sk-container-id-3 div.sk-parallel {display: flex;align-items: stretch;justify-content: center;background-color: white;position: relative;}#sk-container-id-3 div.sk-item::before, #sk-container-id-3 div.sk-parallel-item::before {content: \"\";position: absolute;border-left: 1px solid gray;box-sizing: border-box;top: 0;bottom: 0;left: 50%;z-index: -1;}#sk-container-id-3 div.sk-parallel-item {display: flex;flex-direction: column;z-index: 1;position: relative;background-color: white;}#sk-container-id-3 div.sk-parallel-item:first-child::after {align-self: flex-end;width: 50%;}#sk-container-id-3 div.sk-parallel-item:last-child::after {align-self: flex-start;width: 50%;}#sk-container-id-3 div.sk-parallel-item:only-child::after {width: 0;}#sk-container-id-3 div.sk-dashed-wrapped {border: 1px dashed gray;margin: 0 0.4em 0.5em 0.4em;box-sizing: border-box;padding-bottom: 0.4em;background-color: white;}#sk-container-id-3 div.sk-label label {font-family: monospace;font-weight: bold;display: inline-block;line-height: 1.2em;}#sk-container-id-3 div.sk-label-container {text-align: center;}#sk-container-id-3 div.sk-container {/* jupyter's `normalize.less` sets `[hidden] { display: none; }` but bootstrap.min.css set `[hidden] { display: none !important; }` so we also need the `!important` here to be able to override the default hidden behavior on the sphinx rendered scikit-learn.org. See: https://github.com/scikit-learn/scikit-learn/issues/21755 */display: inline-block !important;position: relative;}#sk-container-id-3 div.sk-text-repr-fallback {display: none;}</style><div id=\"sk-container-id-3\" class=\"sk-top-container\"><div class=\"sk-text-repr-fallback\"><pre>KMeans(n_clusters=4, random_state=90)</pre><b>In a Jupyter environment, please rerun this cell to show the HTML representation or trust the notebook. <br />On GitHub, the HTML representation is unable to render, please try loading this page with nbviewer.org.</b></div><div class=\"sk-container\" hidden><div class=\"sk-item\"><div class=\"sk-estimator sk-toggleable\"><input class=\"sk-toggleable__control sk-hidden--visually\" id=\"sk-estimator-id-3\" type=\"checkbox\" checked><label for=\"sk-estimator-id-3\" class=\"sk-toggleable__label sk-toggleable__label-arrow\">KMeans</label><div class=\"sk-toggleable__content\"><pre>KMeans(n_clusters=4, random_state=90)</pre></div></div></div></div></div>"
      ],
      "text/plain": [
       "KMeans(n_clusters=4, random_state=90)"
      ]
     },
     "execution_count": 38,
     "metadata": {},
     "output_type": "execute_result"
    }
   ],
   "source": [
    "kmean = KMeans(n_clusters=4, init='k-means++', random_state=90)\n",
    "kmean.fit(x_pca)"
   ]
  },
  {
   "cell_type": "code",
   "execution_count": 39,
   "id": "dadcf187-1be8-46c8-80e2-c805c26e9e9a",
   "metadata": {},
   "outputs": [
    {
     "data": {
      "text/plain": [
       "3    496\n",
       "0    423\n",
       "1    400\n",
       "2    163\n",
       "Name: count, dtype: int64"
      ]
     },
     "execution_count": 39,
     "metadata": {},
     "output_type": "execute_result"
    }
   ],
   "source": [
    "pd.Series(kmean.labels_).value_counts()"
   ]
  },
  {
   "cell_type": "code",
   "execution_count": 40,
   "id": "32077385-4157-40db-8efc-501ea0ad2151",
   "metadata": {},
   "outputs": [],
   "source": [
    "df['clusters'] = kmean.labels_"
   ]
  },
  {
   "cell_type": "code",
   "execution_count": 41,
   "id": "f090101e-c911-4798-9f92-3adddf7e4d7b",
   "metadata": {},
   "outputs": [
    {
     "data": {
      "text/html": [
       "<div>\n",
       "<style scoped>\n",
       "    .dataframe tbody tr th:only-of-type {\n",
       "        vertical-align: middle;\n",
       "    }\n",
       "\n",
       "    .dataframe tbody tr th {\n",
       "        vertical-align: top;\n",
       "    }\n",
       "\n",
       "    .dataframe thead th {\n",
       "        text-align: right;\n",
       "    }\n",
       "</style>\n",
       "<table border=\"1\" class=\"dataframe\">\n",
       "  <thead>\n",
       "    <tr style=\"text-align: right;\">\n",
       "      <th></th>\n",
       "      <th>name</th>\n",
       "      <th>state</th>\n",
       "      <th>city</th>\n",
       "      <th>address</th>\n",
       "      <th>lattitude</th>\n",
       "      <th>longitude</th>\n",
       "      <th>type</th>\n",
       "      <th>clusters</th>\n",
       "    </tr>\n",
       "  </thead>\n",
       "  <tbody>\n",
       "    <tr>\n",
       "      <th>0</th>\n",
       "      <td>Neelkanth Star DC Charging Station</td>\n",
       "      <td>Haryana</td>\n",
       "      <td>Gurugram</td>\n",
       "      <td>Neelkanth Star Karnal, NH 44, Gharunda, Kutail...</td>\n",
       "      <td>29.60</td>\n",
       "      <td>76.980300</td>\n",
       "      <td>12.0</td>\n",
       "      <td>1</td>\n",
       "    </tr>\n",
       "    <tr>\n",
       "      <th>1</th>\n",
       "      <td>Galleria DC Charging Station</td>\n",
       "      <td>Haryana</td>\n",
       "      <td>Gurugram</td>\n",
       "      <td>DLF Phase IV, Sector 28, Gurugram, Haryana 122022</td>\n",
       "      <td>28.46</td>\n",
       "      <td>77.081800</td>\n",
       "      <td>12.0</td>\n",
       "      <td>1</td>\n",
       "    </tr>\n",
       "    <tr>\n",
       "      <th>2</th>\n",
       "      <td>Highway Xpress (Jaipur-Delhi) DC charging station</td>\n",
       "      <td>Rajasthan</td>\n",
       "      <td>Behror</td>\n",
       "      <td>Jaipur to Delhi Road, Behror Midway, Behror, R...</td>\n",
       "      <td>27.87</td>\n",
       "      <td>76.276000</td>\n",
       "      <td>12.0</td>\n",
       "      <td>1</td>\n",
       "    </tr>\n",
       "    <tr>\n",
       "      <th>3</th>\n",
       "      <td>Food Carnival DC Charging Station</td>\n",
       "      <td>Uttar Pradesh</td>\n",
       "      <td>Khatauli</td>\n",
       "      <td>Fun and Food Carnival, NH 58, Khatauli Bypass,...</td>\n",
       "      <td>29.31</td>\n",
       "      <td>77.721800</td>\n",
       "      <td>12.0</td>\n",
       "      <td>1</td>\n",
       "    </tr>\n",
       "    <tr>\n",
       "      <th>4</th>\n",
       "      <td>Food Carnival AC Charging Station</td>\n",
       "      <td>Uttar Pradesh</td>\n",
       "      <td>Khatauli</td>\n",
       "      <td>NH 58, Khatauli Bypass, Bhainsi, Uttar Pradesh...</td>\n",
       "      <td>29.31</td>\n",
       "      <td>77.721800</td>\n",
       "      <td>12.0</td>\n",
       "      <td>1</td>\n",
       "    </tr>\n",
       "    <tr>\n",
       "      <th>...</th>\n",
       "      <td>...</td>\n",
       "      <td>...</td>\n",
       "      <td>...</td>\n",
       "      <td>...</td>\n",
       "      <td>...</td>\n",
       "      <td>...</td>\n",
       "      <td>...</td>\n",
       "      <td>...</td>\n",
       "    </tr>\n",
       "    <tr>\n",
       "      <th>1477</th>\n",
       "      <td>Tata Power</td>\n",
       "      <td>Kerala</td>\n",
       "      <td>Munnar</td>\n",
       "      <td>Gokulam Park Munnar, Power House Road, South C...</td>\n",
       "      <td>10.02</td>\n",
       "      <td>77.045859</td>\n",
       "      <td>7.0</td>\n",
       "      <td>3</td>\n",
       "    </tr>\n",
       "    <tr>\n",
       "      <th>1478</th>\n",
       "      <td>Tata Power</td>\n",
       "      <td>Haryana</td>\n",
       "      <td>Gurgaon</td>\n",
       "      <td>Vatika Town Square II, Sector 82, Sector 82, V...</td>\n",
       "      <td>28.39</td>\n",
       "      <td>76.959200</td>\n",
       "      <td>7.0</td>\n",
       "      <td>1</td>\n",
       "    </tr>\n",
       "    <tr>\n",
       "      <th>1479</th>\n",
       "      <td>Tata Power</td>\n",
       "      <td>Haryana</td>\n",
       "      <td>Gurgaon</td>\n",
       "      <td>Zedex TATA, Sec 48, GF-26, NIHO Scottish Mall,...</td>\n",
       "      <td>28.41</td>\n",
       "      <td>77.040546</td>\n",
       "      <td>7.0</td>\n",
       "      <td>1</td>\n",
       "    </tr>\n",
       "    <tr>\n",
       "      <th>1480</th>\n",
       "      <td>Tata Power</td>\n",
       "      <td>Jammu</td>\n",
       "      <td>Jammu</td>\n",
       "      <td>Le ROI, Jammu, Railway Station, Jammu, Jammu &amp;...</td>\n",
       "      <td>32.70</td>\n",
       "      <td>74.879203</td>\n",
       "      <td>7.0</td>\n",
       "      <td>1</td>\n",
       "    </tr>\n",
       "    <tr>\n",
       "      <th>1481</th>\n",
       "      <td>Tata Power</td>\n",
       "      <td>Karnataka</td>\n",
       "      <td>Mangalore</td>\n",
       "      <td>Auto Matrix, Bejai, Manjusha Building, Bejai, ...</td>\n",
       "      <td>12.88</td>\n",
       "      <td>74.843476</td>\n",
       "      <td>7.0</td>\n",
       "      <td>3</td>\n",
       "    </tr>\n",
       "  </tbody>\n",
       "</table>\n",
       "<p>1482 rows × 8 columns</p>\n",
       "</div>"
      ],
      "text/plain": [
       "                                                   name          state  \\\n",
       "0                    Neelkanth Star DC Charging Station        Haryana   \n",
       "1                          Galleria DC Charging Station        Haryana   \n",
       "2     Highway Xpress (Jaipur-Delhi) DC charging station      Rajasthan   \n",
       "3                     Food Carnival DC Charging Station  Uttar Pradesh   \n",
       "4                     Food Carnival AC Charging Station  Uttar Pradesh   \n",
       "...                                                 ...            ...   \n",
       "1477                                        Tata Power          Kerala   \n",
       "1478                                        Tata Power         Haryana   \n",
       "1479                                        Tata Power         Haryana   \n",
       "1480                                        Tata Power           Jammu   \n",
       "1481                                        Tata Power       Karnataka   \n",
       "\n",
       "           city                                            address  lattitude  \\\n",
       "0      Gurugram  Neelkanth Star Karnal, NH 44, Gharunda, Kutail...      29.60   \n",
       "1      Gurugram  DLF Phase IV, Sector 28, Gurugram, Haryana 122022      28.46   \n",
       "2        Behror  Jaipur to Delhi Road, Behror Midway, Behror, R...      27.87   \n",
       "3      Khatauli  Fun and Food Carnival, NH 58, Khatauli Bypass,...      29.31   \n",
       "4      Khatauli  NH 58, Khatauli Bypass, Bhainsi, Uttar Pradesh...      29.31   \n",
       "...         ...                                                ...        ...   \n",
       "1477     Munnar  Gokulam Park Munnar, Power House Road, South C...      10.02   \n",
       "1478    Gurgaon  Vatika Town Square II, Sector 82, Sector 82, V...      28.39   \n",
       "1479    Gurgaon  Zedex TATA, Sec 48, GF-26, NIHO Scottish Mall,...      28.41   \n",
       "1480      Jammu  Le ROI, Jammu, Railway Station, Jammu, Jammu &...      32.70   \n",
       "1481  Mangalore  Auto Matrix, Bejai, Manjusha Building, Bejai, ...      12.88   \n",
       "\n",
       "      longitude  type  clusters  \n",
       "0     76.980300  12.0         1  \n",
       "1     77.081800  12.0         1  \n",
       "2     76.276000  12.0         1  \n",
       "3     77.721800  12.0         1  \n",
       "4     77.721800  12.0         1  \n",
       "...         ...   ...       ...  \n",
       "1477  77.045859   7.0         3  \n",
       "1478  76.959200   7.0         1  \n",
       "1479  77.040546   7.0         1  \n",
       "1480  74.879203   7.0         1  \n",
       "1481  74.843476   7.0         3  \n",
       "\n",
       "[1482 rows x 8 columns]"
      ]
     },
     "execution_count": 41,
     "metadata": {},
     "output_type": "execute_result"
    }
   ],
   "source": [
    "df"
   ]
  },
  {
   "cell_type": "code",
   "execution_count": 42,
   "id": "7f76cc47-5506-4e9c-a4d8-21843b5cb943",
   "metadata": {},
   "outputs": [
    {
     "data": {
      "text/plain": [
       "clusters\n",
       "3    496\n",
       "0    423\n",
       "1    400\n",
       "2    163\n",
       "Name: count, dtype: int64"
      ]
     },
     "execution_count": 42,
     "metadata": {},
     "output_type": "execute_result"
    }
   ],
   "source": [
    "df[\"clusters\"].value_counts()"
   ]
  },
  {
   "cell_type": "code",
   "execution_count": 43,
   "id": "7590eca6-2248-4166-bc9d-2211c2a21ce4",
   "metadata": {},
   "outputs": [],
   "source": [
    "Cluster_0=df[df.clusters==0]\n",
    "Cluster_1=df[df.clusters==1]\n",
    "Cluster_2=df[df.clusters==2]\n",
    "Cluster_3=df[df.clusters==3]"
   ]
  },
  {
   "cell_type": "code",
   "execution_count": 44,
   "id": "d3122f38-54a6-478f-b652-65cf93c2147a",
   "metadata": {},
   "outputs": [
    {
     "data": {
      "text/plain": [
       "[state\n",
       " Maharashtra       194\n",
       " Gujarat            67\n",
       " Telangana          52\n",
       " Madhya Pradesh     15\n",
       " Karnataka          12\n",
       " Name: count, dtype: int64,\n",
       " state\n",
       " Delhi            106\n",
       " Uttar Pradesh     69\n",
       " Delhi NCR         53\n",
       " Rajasthan         46\n",
       " Haryana           45\n",
       " Name: count, dtype: int64,\n",
       " state\n",
       " West Bengal     42\n",
       " Odisha          34\n",
       " Jharkhand       18\n",
       " Chhattisgarh    12\n",
       " Assam           10\n",
       " Name: count, dtype: int64,\n",
       " state\n",
       " Tamil Nadu        169\n",
       " Karnataka         105\n",
       " Kerala             77\n",
       " Andhra Pradesh     41\n",
       " Maharashtra        32\n",
       " Name: count, dtype: int64]"
      ]
     },
     "execution_count": 44,
     "metadata": {},
     "output_type": "execute_result"
    }
   ],
   "source": [
    "[Cluster_0[\"state\"].value_counts().head(),\n",
    "Cluster_1[\"state\"].value_counts().head(),\n",
    "Cluster_2[\"state\"].value_counts().head(),\n",
    "Cluster_3[\"state\"].value_counts().head()]\n",
    "# target 27-30 years"
   ]
  },
  {
   "cell_type": "code",
   "execution_count": 45,
   "id": "e6389a95-ef7b-4458-b7d4-b5dcdd8e3b4a",
   "metadata": {},
   "outputs": [
    {
     "data": {
      "text/plain": [
       "[city\n",
       " Mumbai       65\n",
       " Hyderabad    61\n",
       " Pune         35\n",
       " Ahmedabad    23\n",
       " pune         17\n",
       " Name: count, dtype: int64,\n",
       " city\n",
       " Delhi        82\n",
       " New Delhi    67\n",
       " Gurgaon      25\n",
       " Noida        22\n",
       " Jaipur       17\n",
       " Name: count, dtype: int64,\n",
       " city\n",
       " Kolkata          19\n",
       " Bhubaneswar      17\n",
       " Jamshedpur       10\n",
       " visakhapatnam     8\n",
       " Raipur            8\n",
       " Name: count, dtype: int64,\n",
       " city\n",
       " bengaluru           107\n",
       " Chennai              76\n",
       " kochi                11\n",
       " Thiruvanthapuram     10\n",
       " Kochi                 9\n",
       " Name: count, dtype: int64]"
      ]
     },
     "execution_count": 45,
     "metadata": {},
     "output_type": "execute_result"
    }
   ],
   "source": [
    "[Cluster_0[\"city\"].value_counts().head(),\n",
    "Cluster_1[\"city\"].value_counts().head(),\n",
    "Cluster_2[\"city\"].value_counts().head(),\n",
    "Cluster_3[\"city\"].value_counts().head()]"
   ]
  },
  {
   "cell_type": "code",
   "execution_count": 48,
   "id": "177e67b7-71ae-4f72-ad1e-78fc9451f025",
   "metadata": {},
   "outputs": [
    {
     "name": "stdout",
     "output_type": "stream",
     "text": [
      "CLUSTER 1:\n"
     ]
    },
    {
     "data": {
      "text/plain": [
       "state\n",
       "Maharashtra       194\n",
       "Gujarat            67\n",
       "Telangana          52\n",
       "Madhya Pradesh     15\n",
       "Karnataka          12\n",
       "Name: count, dtype: int64"
      ]
     },
     "execution_count": 48,
     "metadata": {},
     "output_type": "execute_result"
    }
   ],
   "source": [
    "print(\"CLUSTER 1:\")\n",
    "Cluster_0[\"state\"].value_counts().head()"
   ]
  },
  {
   "cell_type": "code",
   "execution_count": 49,
   "id": "20bb1413-24e8-4fb4-bbfc-bf61961ee8ac",
   "metadata": {},
   "outputs": [
    {
     "name": "stdout",
     "output_type": "stream",
     "text": [
      "CLUSTER 2:\n"
     ]
    },
    {
     "data": {
      "text/plain": [
       "state\n",
       "Delhi            106\n",
       "Uttar Pradesh     69\n",
       "Delhi NCR         53\n",
       "Rajasthan         46\n",
       "Haryana           45\n",
       "Name: count, dtype: int64"
      ]
     },
     "execution_count": 49,
     "metadata": {},
     "output_type": "execute_result"
    }
   ],
   "source": [
    "print(\"CLUSTER 2:\")\n",
    "Cluster_1[\"state\"].value_counts().head()\n"
   ]
  },
  {
   "cell_type": "code",
   "execution_count": 50,
   "id": "25bd3161-732b-49e2-88c5-277e55f4dcd2",
   "metadata": {},
   "outputs": [
    {
     "name": "stdout",
     "output_type": "stream",
     "text": [
      "CLUSTER 3:\n"
     ]
    },
    {
     "data": {
      "text/plain": [
       "state\n",
       "West Bengal     42\n",
       "Odisha          34\n",
       "Jharkhand       18\n",
       "Chhattisgarh    12\n",
       "Assam           10\n",
       "Name: count, dtype: int64"
      ]
     },
     "execution_count": 50,
     "metadata": {},
     "output_type": "execute_result"
    }
   ],
   "source": [
    "print(\"CLUSTER 3:\")\n",
    "Cluster_2[\"state\"].value_counts().head()\n"
   ]
  },
  {
   "cell_type": "code",
   "execution_count": 51,
   "id": "a1d4ea02-2917-4bc2-825e-17470c115cf3",
   "metadata": {},
   "outputs": [
    {
     "name": "stdout",
     "output_type": "stream",
     "text": [
      "CLUSTER 4:\n"
     ]
    },
    {
     "data": {
      "text/plain": [
       "state\n",
       "Tamil Nadu        169\n",
       "Karnataka         105\n",
       "Kerala             77\n",
       "Andhra Pradesh     41\n",
       "Maharashtra        32\n",
       "Name: count, dtype: int64"
      ]
     },
     "execution_count": 51,
     "metadata": {},
     "output_type": "execute_result"
    }
   ],
   "source": [
    "print(\"CLUSTER 4:\")\n",
    "Cluster_3[\"state\"].value_counts().head()\n"
   ]
  },
  {
   "cell_type": "code",
   "execution_count": 52,
   "id": "c72d5de5-19b1-494e-824e-324fefa97199",
   "metadata": {},
   "outputs": [
    {
     "name": "stdout",
     "output_type": "stream",
     "text": [
      "CLUSTER 1:\n"
     ]
    },
    {
     "data": {
      "text/plain": [
       "city\n",
       "Mumbai       65\n",
       "Hyderabad    61\n",
       "Pune         35\n",
       "Ahmedabad    23\n",
       "pune         17\n",
       "Name: count, dtype: int64"
      ]
     },
     "execution_count": 52,
     "metadata": {},
     "output_type": "execute_result"
    }
   ],
   "source": [
    "print(\"CLUSTER 1:\")\n",
    "Cluster_0[\"city\"].value_counts().head()"
   ]
  },
  {
   "cell_type": "code",
   "execution_count": 53,
   "id": "dc9159c6-16ad-4c83-b36d-98af6c56e1e3",
   "metadata": {},
   "outputs": [
    {
     "name": "stdout",
     "output_type": "stream",
     "text": [
      "CLUSTER 2:\n"
     ]
    },
    {
     "data": {
      "text/plain": [
       "city\n",
       "Delhi        82\n",
       "New Delhi    67\n",
       "Gurgaon      25\n",
       "Noida        22\n",
       "Jaipur       17\n",
       "Name: count, dtype: int64"
      ]
     },
     "execution_count": 53,
     "metadata": {},
     "output_type": "execute_result"
    }
   ],
   "source": [
    "print(\"CLUSTER 2:\")\n",
    "Cluster_1[\"city\"].value_counts().head()\n"
   ]
  },
  {
   "cell_type": "code",
   "execution_count": 54,
   "id": "cc8eff5d-c817-4317-bffb-c0aa5152c234",
   "metadata": {},
   "outputs": [
    {
     "name": "stdout",
     "output_type": "stream",
     "text": [
      "CLUSTER 3:\n"
     ]
    },
    {
     "data": {
      "text/plain": [
       "city\n",
       "Kolkata          19\n",
       "Bhubaneswar      17\n",
       "Jamshedpur       10\n",
       "visakhapatnam     8\n",
       "Raipur            8\n",
       "Name: count, dtype: int64"
      ]
     },
     "execution_count": 54,
     "metadata": {},
     "output_type": "execute_result"
    }
   ],
   "source": [
    "print(\"CLUSTER 3:\")\n",
    "Cluster_2[\"city\"].value_counts().head()\n"
   ]
  },
  {
   "cell_type": "code",
   "execution_count": 55,
   "id": "2b952156-cb88-4b77-812f-c3df2730c224",
   "metadata": {},
   "outputs": [
    {
     "name": "stdout",
     "output_type": "stream",
     "text": [
      "CLUSTER 4:\n"
     ]
    },
    {
     "data": {
      "text/plain": [
       "city\n",
       "bengaluru           107\n",
       "Chennai              76\n",
       "kochi                11\n",
       "Thiruvanthapuram     10\n",
       "Kochi                 9\n",
       "Name: count, dtype: int64"
      ]
     },
     "execution_count": 55,
     "metadata": {},
     "output_type": "execute_result"
    }
   ],
   "source": [
    "print(\"CLUSTER 4:\")\n",
    "Cluster_3[\"city\"].value_counts().head()\n"
   ]
  },
  {
   "cell_type": "code",
   "execution_count": null,
   "id": "da2b2628-756a-459e-b6f1-9e45eea4eea2",
   "metadata": {},
   "outputs": [],
   "source": []
  }
 ],
 "metadata": {
  "kernelspec": {
   "display_name": "Python 3 (ipykernel)",
   "language": "python",
   "name": "python3"
  },
  "language_info": {
   "codemirror_mode": {
    "name": "ipython",
    "version": 3
   },
   "file_extension": ".py",
   "mimetype": "text/x-python",
   "name": "python",
   "nbconvert_exporter": "python",
   "pygments_lexer": "ipython3",
   "version": "3.11.7"
  }
 },
 "nbformat": 4,
 "nbformat_minor": 5
}
